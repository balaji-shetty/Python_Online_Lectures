{
 "cells": [
  {
   "cell_type": "code",
   "execution_count": 54,
   "id": "281137a9",
   "metadata": {},
   "outputs": [
    {
     "name": "stdout",
     "output_type": "stream",
     "text": [
      "0\n",
      "1\n",
      "2\n",
      "3\n",
      "4\n",
      "5\n",
      "6\n",
      "7\n",
      "8\n",
      "9\n",
      "10\n",
      "11\n",
      "12\n",
      "13\n",
      "14\n"
     ]
    }
   ],
   "source": [
    "for j in range(15):\n",
    "    print(j)\n",
    "    \n"
   ]
  },
  {
   "cell_type": "code",
   "execution_count": 45,
   "id": "c9b8d50f",
   "metadata": {},
   "outputs": [
    {
     "name": "stdout",
     "output_type": "stream",
     "text": [
      "2\n",
      "3\n",
      "4\n",
      "5\n",
      "6\n",
      "7\n",
      "8\n",
      "9\n",
      "10\n",
      "11\n",
      "12\n",
      "13\n",
      "14\n",
      "15\n",
      "16\n",
      "17\n",
      "18\n",
      "19\n"
     ]
    }
   ],
   "source": [
    "for i in range(2,20):\n",
    "    print(i)\n"
   ]
  },
  {
   "cell_type": "code",
   "execution_count": 57,
   "id": "5907f3f9",
   "metadata": {},
   "outputs": [
    {
     "name": "stdout",
     "output_type": "stream",
     "text": [
      "4\n",
      "5\n",
      "6\n",
      "7\n",
      "8\n",
      "9\n",
      "10\n"
     ]
    }
   ],
   "source": [
    "for i in range(4,11):\n",
    "    print(i)"
   ]
  },
  {
   "cell_type": "code",
   "execution_count": 59,
   "id": "bea3600a",
   "metadata": {},
   "outputs": [
    {
     "name": "stdout",
     "output_type": "stream",
     "text": [
      "1\n",
      "2\n",
      "3\n",
      "4\n",
      "5\n",
      "6\n",
      "7\n",
      "8\n",
      "9\n"
     ]
    }
   ],
   "source": [
    "for i in range(1,10):\n",
    "    print(i)"
   ]
  },
  {
   "cell_type": "code",
   "execution_count": 67,
   "id": "97e21cbd",
   "metadata": {
    "scrolled": true
   },
   "outputs": [
    {
     "name": "stdout",
     "output_type": "stream",
     "text": [
      "STATEMENT 1 1\n",
      "STATEMENT 2 1\n",
      "STATEMENT 3 1\n",
      "STATEMENT 1 2\n",
      "STATEMENT 2 2\n",
      "STATEMENT 3 2\n",
      "STATEMENT 1 3\n",
      "STATEMENT 2 3\n",
      "STATEMENT 3 3\n",
      "STATEMENT 1 4\n",
      "STATEMENT 2 4\n",
      "STATEMENT 3 4\n",
      "STATEMENT 4 4\n"
     ]
    }
   ],
   "source": [
    "for i in range(1,5):\n",
    "    print(\"STATEMENT 1\",i)\n",
    "    print(\"STATEMENT 2\",i)   \n",
    "    print(\"STATEMENT 3\",i)\n",
    "print(\"STATEMENT 4\",i)    "
   ]
  },
  {
   "cell_type": "code",
   "execution_count": 4,
   "id": "87f000f4",
   "metadata": {},
   "outputs": [
    {
     "name": "stdout",
     "output_type": "stream",
     "text": [
      " Enter Phy:10\n",
      " Enter Chem:10\n",
      " Enter Math:10\n",
      " Total of stud 1 is 30\n",
      " Enter Phy:12\n",
      " Enter Chem:2\n",
      " Enter Math:3\n",
      " Total of stud 2 is 17\n"
     ]
    }
   ],
   "source": [
    "p1 = int(input(\" Enter Phy:\"))\n",
    "int_p1 = int(p1)\n",
    "\n",
    "c1 = int(input(\" Enter Chem:\"))\n",
    "int_c1 = int(c1)\n",
    "\n",
    "m1 = int(input(\" Enter Math:\"))\n",
    "int_m1 = int(m1)\n",
    "\n",
    "t1 = int_p1 + int_c1 + int_m1\n",
    "\n",
    "print(\" Total of stud 1 is\", t1)\n",
    "\n",
    "\n",
    "p2 = int(input(\" Enter Phy:\"))\n",
    "int_p2 = int(p2)\n",
    "\n",
    "c2 = int(input(\" Enter Chem:\"))\n",
    "int_c2 = int(c2)\n",
    "\n",
    "m2 = int(input(\" Enter Math:\"))\n",
    "int_m2 = int(m2)\n",
    "\n",
    "t2 = int_p2 + int_c2 + int_m2\n",
    "\n",
    "print(\" Total of stud 2 is\", t2)\n",
    "\n"
   ]
  },
  {
   "cell_type": "code",
   "execution_count": 30,
   "id": "4ff7b3c0",
   "metadata": {},
   "outputs": [
    {
     "name": "stdout",
     "output_type": "stream",
     "text": [
      "2   4\n",
      "4   6\n",
      "6   8\n",
      "8   10\n",
      "10   12\n",
      "12   14\n",
      "14   16\n",
      "16   18\n",
      "18   20\n",
      "20   22\n",
      "3   5\n",
      "6   8\n",
      "9   11\n",
      "12   14\n",
      "15   17\n",
      "18   20\n",
      "21   23\n",
      "24   26\n",
      "27   29\n",
      "30   32\n",
      "4   6\n",
      "8   10\n",
      "12   14\n",
      "16   18\n",
      "20   22\n",
      "24   26\n",
      "28   30\n",
      "32   34\n",
      "36   38\n",
      "40   42\n"
     ]
    }
   ],
   "source": [
    "x = range(1, 11)  # function sequence of no Last No - 1\n",
    "for A in x:\n",
    "  print(A*2,\" \",A*2 + 2) \n",
    "\n",
    "for A in x:\n",
    "  print(A*3,\" \",A*3 + 2)\n",
    "\n",
    "for A in x:\n",
    "  print(A*4,\" \",A*4 + 2) \n",
    "  \n",
    "  "
   ]
  },
  {
   "cell_type": "code",
   "execution_count": 68,
   "id": "6861bb33",
   "metadata": {},
   "outputs": [
    {
     "name": "stdout",
     "output_type": "stream",
     "text": [
      " Enter Student  1  Marks\n",
      " Enter Phy:11\n",
      " Enter Chem:11\n",
      " Enter Math:11\n",
      " Total of stud  1 Marks is 33\n",
      " Enter Student  2  Marks\n",
      " Enter Phy:22\n",
      " Enter Chem:22\n",
      " Enter Math:22\n",
      " Total of stud  2 Marks is 66\n",
      " Enter Student  3  Marks\n",
      " Enter Phy:33\n",
      " Enter Chem:33\n",
      " Enter Math:33\n",
      " Total of stud  3 Marks is 99\n",
      " Enter Student  4  Marks\n",
      " Enter Phy:44\n",
      " Enter Chem:44\n",
      " Enter Math:44\n",
      " Total of stud  4 Marks is 132\n"
     ]
    }
   ],
   "source": [
    "x = range(1, 5)  # function sequence of no Last No - 1\n",
    "\n",
    "for A in x:\n",
    "    print(\" Enter Student \", A, \" Marks\")\n",
    "    p1 = int(input(\" Enter Phy:\"))\n",
    "    int_p1 = int(p1)\n",
    "\n",
    "    c1 = int(input(\" Enter Chem:\"))\n",
    "    int_c1 = int(c1)\n",
    "\n",
    "    m1 = int(input(\" Enter Math:\"))\n",
    "    int_m1 = int(m1)\n",
    "\n",
    "    t1 = int_p1 + int_c1 + int_m1\n",
    "\n",
    "    print(\" Total of stud \",A, \"Marks is\", t1)"
   ]
  },
  {
   "cell_type": "code",
   "execution_count": 69,
   "id": "f4085b3b",
   "metadata": {},
   "outputs": [
    {
     "name": "stdout",
     "output_type": "stream",
     "text": [
      " Enter Student  0  Marks\n",
      " Enter Phy:11\n",
      " Enter Chem:11\n",
      " Enter Math:11\n",
      " Total of stud  0 Marks is 33\n",
      " Enter Student  1  Marks\n",
      " Enter Phy:22\n",
      " Enter Chem:22\n",
      " Enter Math:22\n",
      " Total of stud  1 Marks is 66\n",
      " Enter Student  2  Marks\n",
      " Enter Phy:33\n",
      " Enter Chem:33\n",
      " Enter Math:33\n",
      " Total of stud  2 Marks is 99\n",
      " Enter Student  3  Marks\n",
      " Enter Phy:44\n",
      " Enter Chem:44\n",
      " Enter Math:44\n",
      " Total of stud  3 Marks is 132\n",
      " Enter Student  4  Marks\n",
      " Enter Phy:55\n",
      " Enter Chem:55\n",
      " Enter Math:55\n",
      " Total of stud  4 Marks is 165\n"
     ]
    }
   ],
   "source": [
    "x = range(1, 5)  # function sequence of no Last No - 1\n",
    "\n",
    "for A in range(5):\n",
    "    print(\" Enter Student \", A, \" Marks\")\n",
    "    p1 = int(input(\" Enter Phy:\"))\n",
    "    int_p1 = int(p1)\n",
    "\n",
    "    c1 = int(input(\" Enter Chem:\"))\n",
    "    int_c1 = int(c1)\n",
    "\n",
    "    m1 = int(input(\" Enter Math:\"))\n",
    "    int_m1 = int(m1)\n",
    "\n",
    "    t1 = int_p1 + int_c1 + int_m1\n",
    "\n",
    "    print(\" Total of stud \",A, \"Marks is\", t1)"
   ]
  },
  {
   "cell_type": "code",
   "execution_count": null,
   "id": "604b1a6a",
   "metadata": {},
   "outputs": [],
   "source": []
  }
 ],
 "metadata": {
  "kernelspec": {
   "display_name": "Python 3 (ipykernel)",
   "language": "python",
   "name": "python3"
  },
  "language_info": {
   "codemirror_mode": {
    "name": "ipython",
    "version": 3
   },
   "file_extension": ".py",
   "mimetype": "text/x-python",
   "name": "python",
   "nbconvert_exporter": "python",
   "pygments_lexer": "ipython3",
   "version": "3.9.12"
  }
 },
 "nbformat": 4,
 "nbformat_minor": 5
}
